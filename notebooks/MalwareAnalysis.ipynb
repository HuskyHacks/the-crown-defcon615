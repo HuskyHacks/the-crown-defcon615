{
 "cells": [
  {
   "cell_type": "markdown",
   "id": "78c60982-001d-40c8-825b-2c8bab7b31a1",
   "metadata": {},
   "source": [
    "# Nim Malware Analysis"
   ]
  },
  {
   "cell_type": "markdown",
   "id": "517bf47b-1204-4e1f-9ed0-7fd066eb993a",
   "metadata": {},
   "source": [
    "---\n",
    "## [Previous: A Brief History of Nim](HistoryOfNim.ipynb) ||--0--|| [Next: Nim's Offensive Applications](OffensiveNim.ipynb)"
   ]
  },
  {
   "cell_type": "code",
   "execution_count": null,
   "id": "20854d1c-5238-4a40-9fe2-e3000b7483df",
   "metadata": {},
   "outputs": [],
   "source": []
  }
 ],
 "metadata": {
  "kernelspec": {
   "display_name": "Python 3 (ipykernel)",
   "language": "python",
   "name": "python3"
  },
  "language_info": {
   "codemirror_mode": {
    "name": "ipython",
    "version": 3
   },
   "file_extension": ".py",
   "mimetype": "text/x-python",
   "name": "python",
   "nbconvert_exporter": "python",
   "pygments_lexer": "ipython3",
   "version": "3.8.10"
  }
 },
 "nbformat": 4,
 "nbformat_minor": 5
}
