{
 "cells": [
  {
   "cell_type": "markdown",
   "id": "22225239-8c95-46fa-a6ca-842455486b82",
   "metadata": {
    "tags": []
   },
   "source": [
    "# Conclusion"
   ]
  },
  {
   "cell_type": "markdown",
   "id": "02c52eb8-73f5-44cc-a1c7-33ca93ffd126",
   "metadata": {},
   "source": [
    "## Questions to be Answered/Further Research Topics"
   ]
  },
  {
   "cell_type": "markdown",
   "id": "82f9d01b-55d5-4ad5-8f5c-1c00b2962bae",
   "metadata": {},
   "source": [
    "## References"
   ]
  },
  {
   "cell_type": "code",
   "execution_count": null,
   "id": "c69215a8-cd11-42dd-8c45-41b9f39be636",
   "metadata": {},
   "outputs": [],
   "source": []
  }
 ],
 "metadata": {
  "kernelspec": {
   "display_name": "Python 3 (ipykernel)",
   "language": "python",
   "name": "python3"
  },
  "language_info": {
   "codemirror_mode": {
    "name": "ipython",
    "version": 3
   },
   "file_extension": ".py",
   "mimetype": "text/x-python",
   "name": "python",
   "nbconvert_exporter": "python",
   "pygments_lexer": "ipython3",
   "version": "3.8.10"
  }
 },
 "nbformat": 4,
 "nbformat_minor": 5
}
