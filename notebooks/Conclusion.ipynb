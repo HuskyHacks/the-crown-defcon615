{
 "cells": [
  {
   "cell_type": "markdown",
   "id": "22225239-8c95-46fa-a6ca-842455486b82",
   "metadata": {
    "tags": []
   },
   "source": [
    "# Conclusion"
   ]
  },
  {
   "cell_type": "markdown",
   "id": "02c52eb8-73f5-44cc-a1c7-33ca93ffd126",
   "metadata": {},
   "source": [
    "## Questions to be Answered/Further Research Topics\n",
    "\n",
    "### Nim TLS Callback in compiled binaries\n",
    "\n",
    "### Nimble's API Triggering Defender\n"
   ]
  },
  {
   "cell_type": "markdown",
   "id": "2b33ccf3-4691-4ef0-8c59-358b8e622846",
   "metadata": {},
   "source": [
    "## My Info\n",
    "https://twitter.com/HuskyHacksMK\n",
    "\n",
    "https://github.com/HuskyHacks\n",
    "\n",
    "huskyhacks.mk@gmail.com\n"
   ]
  },
  {
   "cell_type": "markdown",
   "id": "82f9d01b-55d5-4ad5-8f5c-1c00b2962bae",
   "metadata": {},
   "source": [
    "## References"
   ]
  },
  {
   "cell_type": "markdown",
   "id": "bc01f2e9-2f48-4fc3-8d09-ea3fe66eb429",
   "metadata": {},
   "source": [
    "## [Previous: The Night Taggart And I Reverse Nimble.exe](NimbleAVExcursion.ipynb)"
   ]
  },
  {
   "cell_type": "code",
   "execution_count": null,
   "id": "f02fda96-abd3-4b5f-a95f-f7bc4a1dcb55",
   "metadata": {},
   "outputs": [],
   "source": []
  }
 ],
 "metadata": {
  "kernelspec": {
   "display_name": "Python 3 (ipykernel)",
   "language": "python",
   "name": "python3"
  },
  "language_info": {
   "codemirror_mode": {
    "name": "ipython",
    "version": 3
   },
   "file_extension": ".py",
   "mimetype": "text/x-python",
   "name": "python",
   "nbconvert_exporter": "python",
   "pygments_lexer": "ipython3",
   "version": "3.8.10"
  }
 },
 "nbformat": 4,
 "nbformat_minor": 5
}
