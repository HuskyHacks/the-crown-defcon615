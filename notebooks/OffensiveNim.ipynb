{
 "cells": [
  {
   "cell_type": "markdown",
   "id": "a55ebba0-19b3-466f-b63a-29ceaf490ea5",
   "metadata": {},
   "source": [
    "# Nim's Offensive Applications"
   ]
  },
  {
   "cell_type": "markdown",
   "id": "22754b93-bbf6-4f0e-807c-83a8496eed40",
   "metadata": {},
   "source": [
    "## OffensiveNim\n",
    "aka \"The Sacred Texts\""
   ]
  },
  {
   "cell_type": "markdown",
   "id": "f4fe5ad7-293d-4478-80ad-363d3a537bf3",
   "metadata": {},
   "source": [
    "---\n",
    "## [Previous: Malware Analysis](MalwareAnalysis.ipynb) ||--0--|| [Next: The Night Taggart And I Reverse Nimble.exe](NimbleAVExcursion.ipynb)"
   ]
  },
  {
   "cell_type": "code",
   "execution_count": null,
   "id": "6b977359-79ca-43a2-b038-ad9e258d0fe0",
   "metadata": {},
   "outputs": [],
   "source": []
  }
 ],
 "metadata": {
  "kernelspec": {
   "display_name": "Python 3 (ipykernel)",
   "language": "python",
   "name": "python3"
  },
  "language_info": {
   "codemirror_mode": {
    "name": "ipython",
    "version": 3
   },
   "file_extension": ".py",
   "mimetype": "text/x-python",
   "name": "python",
   "nbconvert_exporter": "python",
   "pygments_lexer": "ipython3",
   "version": "3.8.10"
  }
 },
 "nbformat": 4,
 "nbformat_minor": 5
}
