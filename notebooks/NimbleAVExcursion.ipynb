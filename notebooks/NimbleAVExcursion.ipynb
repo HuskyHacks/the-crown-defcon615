{
 "cells": [
  {
   "cell_type": "markdown",
   "id": "53b0037a-e539-44e9-806c-7ab54ef9a1cc",
   "metadata": {},
   "source": [
    "# The Night That Taggart and I Reversed Nimble.exe"
   ]
  },
  {
   "cell_type": "markdown",
   "id": "4eb0ddf8-92f3-4d41-995c-bf857075a427",
   "metadata": {},
   "source": [
    "To finish this presentation, let me tell you a story.\n",
    "\n",
    "January 5th, 2021. John Hammond tweets the following:\n",
    "\n",
    "![johntweet](../assets/NimbleAVExcursion/johntweet.png)\n",
    "\n",
    "Upon closer inspection, John is attempting to download Nim version 1.6.2 (the current stable build as of writing this)\n"
   ]
  },
  {
   "cell_type": "markdown",
   "id": "56962d2b-3a8e-4ff1-b5f5-673c6563edf8",
   "metadata": {},
   "source": [
    "---\n",
    "## [Previous: Nim's Offensive Applications](OffensiveNim.ipynb) ||--0--|| [Next: Conclusion](Conclusion.ipynb)"
   ]
  }
 ],
 "metadata": {
  "kernelspec": {
   "display_name": "Python 3 (ipykernel)",
   "language": "python",
   "name": "python3"
  },
  "language_info": {
   "codemirror_mode": {
    "name": "ipython",
    "version": 3
   },
   "file_extension": ".py",
   "mimetype": "text/x-python",
   "name": "python",
   "nbconvert_exporter": "python",
   "pygments_lexer": "ipython3",
   "version": "3.8.10"
  }
 },
 "nbformat": 4,
 "nbformat_minor": 5
}
