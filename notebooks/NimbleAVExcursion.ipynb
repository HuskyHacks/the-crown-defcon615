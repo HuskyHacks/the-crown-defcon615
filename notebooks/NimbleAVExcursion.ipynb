{
 "cells": [
  {
   "cell_type": "markdown",
   "id": "53b0037a-e539-44e9-806c-7ab54ef9a1cc",
   "metadata": {},
   "source": [
    "# The Night That Taggart and I Reversed Nimble.exe"
   ]
  },
  {
   "cell_type": "markdown",
   "id": "56962d2b-3a8e-4ff1-b5f5-673c6563edf8",
   "metadata": {},
   "source": [
    "---\n",
    "## [Previous: Nim's Offensive Applications](OffensiveNim.ipynb) ||--0--|| [Next: Conclusion](Conclusion.ipynb)"
   ]
  },
  {
   "cell_type": "code",
   "execution_count": null,
   "id": "f173a754-8347-4854-b029-82a0fecc48e1",
   "metadata": {},
   "outputs": [],
   "source": []
  }
 ],
 "metadata": {
  "kernelspec": {
   "display_name": "Python 3 (ipykernel)",
   "language": "python",
   "name": "python3"
  },
  "language_info": {
   "codemirror_mode": {
    "name": "ipython",
    "version": 3
   },
   "file_extension": ".py",
   "mimetype": "text/x-python",
   "name": "python",
   "nbconvert_exporter": "python",
   "pygments_lexer": "ipython3",
   "version": "3.8.10"
  }
 },
 "nbformat": 4,
 "nbformat_minor": 5
}
