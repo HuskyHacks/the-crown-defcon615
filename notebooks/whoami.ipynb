{
 "cells": [
  {
   "cell_type": "markdown",
   "id": "dc812589-e739-4cb6-9188-8b6ef9b9d41c",
   "metadata": {},
   "source": [
    "![whoami.png](../assets/whoami.png)"
   ]
  },
  {
   "cell_type": "markdown",
   "id": "0880648f-df36-4850-b5cd-7378c2b20034",
   "metadata": {},
   "source": [
    "---\n",
    "## [Previous: Main](../main.ipynb) ||--0--|| Next: "
   ]
  }
 ],
 "metadata": {
  "kernelspec": {
   "display_name": "Python 3 (ipykernel)",
   "language": "python",
   "name": "python3"
  },
  "language_info": {
   "codemirror_mode": {
    "name": "ipython",
    "version": 3
   },
   "file_extension": ".py",
   "mimetype": "text/x-python",
   "name": "python",
   "nbconvert_exporter": "python",
   "pygments_lexer": "ipython3",
   "version": "3.8.10"
  }
 },
 "nbformat": 4,
 "nbformat_minor": 5
}
