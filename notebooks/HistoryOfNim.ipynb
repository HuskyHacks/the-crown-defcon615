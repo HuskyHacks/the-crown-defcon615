{
 "cells": [
  {
   "cell_type": "markdown",
   "id": "4bb87974-8b20-4816-8aa4-a89cb04597d8",
   "metadata": {},
   "source": [
    "# A Brief History of Nim"
   ]
  },
  {
   "cell_type": "markdown",
   "id": "410fad01-a0d1-4b62-a94f-50b900f01e31",
   "metadata": {},
   "source": [
    "---\n",
    "## [Previous: Whoami](whoami.ipynb) ||--0--|| [Next: Malware Analysis](MalwareAnalysis.ipynb)"
   ]
  },
  {
   "cell_type": "code",
   "execution_count": null,
   "id": "406a7836-0f84-4220-b775-ad0e3c2b91da",
   "metadata": {},
   "outputs": [],
   "source": []
  }
 ],
 "metadata": {
  "kernelspec": {
   "display_name": "Python 3 (ipykernel)",
   "language": "python",
   "name": "python3"
  },
  "language_info": {
   "codemirror_mode": {
    "name": "ipython",
    "version": 3
   },
   "file_extension": ".py",
   "mimetype": "text/x-python",
   "name": "python",
   "nbconvert_exporter": "python",
   "pygments_lexer": "ipython3",
   "version": "3.8.10"
  }
 },
 "nbformat": 4,
 "nbformat_minor": 5
}
