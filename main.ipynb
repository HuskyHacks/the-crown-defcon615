{
 "cells": [
  {
   "cell_type": "markdown",
   "id": "707bde47-5cc3-43f7-a4d5-cc71394589a1",
   "metadata": {},
   "source": [
    "# The Crown: Exploratory Analysis of Nim Malware\n",
    "Matt Kiely | HuskyHacks | DEF CON 615 | January 25th 2022"
   ]
  },
  {
   "cell_type": "code",
   "execution_count": 1,
   "id": "fdc7e74c-8b2a-4f02-aa0c-35ae199bc8e4",
   "metadata": {},
   "outputs": [
    {
     "name": "stdout",
     "output_type": "stream",
     "text": [
      "Hello World!\n"
     ]
    }
   ],
   "source": [
    "print(\"Hello World!\")"
   ]
  }
 ],
 "metadata": {
  "kernelspec": {
   "display_name": "Python 3 (ipykernel)",
   "language": "python",
   "name": "python3"
  },
  "language_info": {
   "codemirror_mode": {
    "name": "ipython",
    "version": 3
   },
   "file_extension": ".py",
   "mimetype": "text/x-python",
   "name": "python",
   "nbconvert_exporter": "python",
   "pygments_lexer": "ipython3",
   "version": "3.8.10"
  }
 },
 "nbformat": 4,
 "nbformat_minor": 5
}
