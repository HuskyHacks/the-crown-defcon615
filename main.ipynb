{
 "cells": [
  {
   "cell_type": "markdown",
   "id": "707bde47-5cc3-43f7-a4d5-cc71394589a1",
   "metadata": {},
   "source": [
    "# The Crown: Exploratory Analysis of Nim Malware\n",
    "Matt Kiely | HuskyHacks | DEF CON 615 | January 25th 2022"
   ]
  },
  {
   "cell_type": "markdown",
   "id": "90a0c6c2-0cc8-4890-8c0b-47addc20621d",
   "metadata": {},
   "source": [
    "# Hello DC 615!\n",
    "Welcome to The Crown: Exploratory Analysis of Nim Malware. Thank you for inviting me here for this talk!\n",
    "\n",
    "---\n",
    "## Presentation\n",
    "The slides for this presentation... don't exist. The whole talk is contained in these Jupyter Notebooks. If you're not familiar with Jupyter Notebooks, I've included some instructions here and will cover how to nagvigate during the talk. Suffice it to say, it's very easy.\n",
    "\n",
    "\n",
    "## A Crash Course in Jupyter Notebooks\n",
    "Jupyter Notebooks are self contained code Read, Eval, Print Loops (REPLs) that are built to co-exist with documentation. So you can write instructions and context in Markdown and add code blocks right next to it. This notebook is using Python as its kernel, so if I were to write some Python like so..."
   ]
  },
  {
   "cell_type": "code",
   "execution_count": 2,
   "id": "fdc7e74c-8b2a-4f02-aa0c-35ae199bc8e4",
   "metadata": {},
   "outputs": [],
   "source": [
    "hello = \"Hello, DC 615!\""
   ]
  },
  {
   "cell_type": "markdown",
   "id": "a0867c61-d274-4bef-8ed1-a11805f17cea",
   "metadata": {},
   "source": [
    "... then, by selecting the cell above and pressing \"Shift+Enter\", you can execute the contents of the cell.\n",
    "\n",
    "Executed cells are kept track of within the context of a Notebook. So if you then do..."
   ]
  },
  {
   "cell_type": "code",
   "execution_count": 3,
   "id": "811ebc65-2ed4-4cfe-b0da-f9f1d3024258",
   "metadata": {},
   "outputs": [
    {
     "name": "stdout",
     "output_type": "stream",
     "text": [
      "Hello, DC 615!\n"
     ]
    }
   ],
   "source": [
    "print(hello)"
   ]
  },
  {
   "cell_type": "markdown",
   "id": "153df9bb-1c88-4d97-9700-62a175b5a623",
   "metadata": {},
   "source": [
    "...you'll execute the Python code. The output of the executed cell will appear below it.\n",
    "\n",
    "Note that the space to the left of each cell indicates if it has been executed and which order the cells have been executed in. You can keep track of which cells have been executed by seeing which have a number inside of the brackets. The two code cells above are now labeled `[1]` and `[2]`\n",
    "\n",
    "To restart a notebook from the keyboard, click onto the Notebook and tap the `0` key and click `Restart`. You can also go up to the nagivation bar and click `Kernel -> Restart Kernel and Clear All Outputs` to restart and remove all of the cell outputs. If you tap `0` twice and restart the kernel and then try to run the same code from before..."
   ]
  },
  {
   "cell_type": "code",
   "execution_count": 1,
   "id": "4163dc6d-ab49-4329-bf3e-16a57a8b892d",
   "metadata": {},
   "outputs": [
    {
     "ename": "NameError",
     "evalue": "name 'hello' is not defined",
     "output_type": "error",
     "traceback": [
      "\u001b[0;31m---------------------------------------------------------------------------\u001b[0m",
      "\u001b[0;31mNameError\u001b[0m                                 Traceback (most recent call last)",
      "\u001b[0;32m/tmp/ipykernel_36396/3936606730.py\u001b[0m in \u001b[0;36m<module>\u001b[0;34m\u001b[0m\n\u001b[0;32m----> 1\u001b[0;31m \u001b[0mprint\u001b[0m\u001b[0;34m(\u001b[0m\u001b[0mhello\u001b[0m\u001b[0;34m)\u001b[0m\u001b[0;34m\u001b[0m\u001b[0;34m\u001b[0m\u001b[0m\n\u001b[0m",
      "\u001b[0;31mNameError\u001b[0m: name 'hello' is not defined"
     ]
    }
   ],
   "source": [
    "print(hello)"
   ]
  },
  {
   "cell_type": "markdown",
   "id": "1f38db9b-0fe7-4058-9c00-a9d0ecddc1a3",
   "metadata": {},
   "source": [
    "... you now should receive an exception that `hello` is not defined.\n",
    "\n",
    "So keep in mind that a Notebook's code relies on the cells being run in a specific order."
   ]
  },
  {
   "cell_type": "markdown",
   "id": "49c772ab-20fe-4069-8f66-3fadfa94a1d5",
   "metadata": {},
   "source": [
    "---\n",
    "## \n",
    "[Notebook 2](notebooks/whoami.ipynb)"
   ]
  },
  {
   "cell_type": "code",
   "execution_count": null,
   "id": "5b74acb6-4031-411a-b1a2-be769e595ea2",
   "metadata": {},
   "outputs": [],
   "source": []
  }
 ],
 "metadata": {
  "kernelspec": {
   "display_name": "Python 3 (ipykernel)",
   "language": "python",
   "name": "python3"
  },
  "language_info": {
   "codemirror_mode": {
    "name": "ipython",
    "version": 3
   },
   "file_extension": ".py",
   "mimetype": "text/x-python",
   "name": "python",
   "nbconvert_exporter": "python",
   "pygments_lexer": "ipython3",
   "version": "3.8.10"
  }
 },
 "nbformat": 4,
 "nbformat_minor": 5
}
